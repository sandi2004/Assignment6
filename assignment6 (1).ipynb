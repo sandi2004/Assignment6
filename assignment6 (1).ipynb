{
 "cells": [
  {
   "cell_type": "code",
   "execution_count": 3,
   "id": "169eec3a-d947-4256-b1f5-438e367048cd",
   "metadata": {},
   "outputs": [],
   "source": [
    "#ans n0=1\n",
    "#An object has state (data) and behavior (code). Objects can correspond to things found in the real world. So for example, a graphics program will have objects such as circle, square, menu. An online shopping system will have objects such as shopping cart, customer, product.\n",
    "\n"
   ]
  },
  {
   "cell_type": "code",
   "execution_count": 2,
   "id": "28f18a7d-c608-4f6d-831c-6e6e5e410101",
   "metadata": {},
   "outputs": [],
   "source": [
    "#class                          object\n",
    "#Class is a logical entity.   Object is a physical entity.\n",
    "#Class can only be declared once.\tObject can be created many times as per requirement.\n",
    "#Example of class can be car.\tObjects of the class car can be BMW, "
   ]
  },
  {
   "cell_type": "code",
   "execution_count": 4,
   "id": "184cf86f-8cb3-4d79-9da8-9de3fd080578",
   "metadata": {},
   "outputs": [],
   "source": [
    "#ans no2"
   ]
  },
  {
   "cell_type": "code",
   "execution_count": 5,
   "id": "1c602466-3cb3-4c11-ae3b-72024c6831c5",
   "metadata": {},
   "outputs": [],
   "source": [
    "#The four pillars for OOP are:\n",
    "#1-Abstraction.\n",
    "#2-Encapsulation.\n",
    "#3-Inheritance.\n",
    "#4-Polymorphism."
   ]
  },
  {
   "cell_type": "code",
   "execution_count": 7,
   "id": "e85a200e-108e-471d-ad44-a2f1934f37af",
   "metadata": {},
   "outputs": [],
   "source": [
    "#ans3="
   ]
  },
  {
   "cell_type": "code",
   "execution_count": 8,
   "id": "275da6fb-76e1-4b2a-b4aa-44f661223b41",
   "metadata": {},
   "outputs": [],
   "source": [
    "#The examples above are classes and objects in their simplest form, and are not really useful in real life applications. To understand the meaning of classes we have to understand the built-in __init__() function. All classes have a function called __init__(), which is always executed when the class is being initiated."
   ]
  },
  {
   "cell_type": "code",
   "execution_count": 9,
   "id": "b0aa8246-f7d9-44fa-a248-74bd86511ec1",
   "metadata": {},
   "outputs": [],
   "source": [
    "#the __init__ method lets the class initialize the object's attributes and serves no other purpose. It is only used within classes."
   ]
  },
  {
   "cell_type": "code",
   "execution_count": 10,
   "id": "36bdd42a-4e98-417e-affc-57f3e523beb9",
   "metadata": {},
   "outputs": [],
   "source": [
    "#ans no=4"
   ]
  },
  {
   "cell_type": "code",
   "execution_count": 11,
   "id": "21324e97-a3e4-4703-9697-dce2829ad420",
   "metadata": {},
   "outputs": [],
   "source": [
    "#The self variable is used to represent the instance of the class which is often used in object-oriented programming. It works as a reference to the object. Python uses the self parameter to refer to instance attributes and methods of the class."
   ]
  },
  {
   "cell_type": "code",
   "execution_count": 12,
   "id": "f4ecb4c0-79ab-4039-afde-c724e99eef0e",
   "metadata": {},
   "outputs": [],
   "source": [
    "#ans5="
   ]
  },
  {
   "cell_type": "code",
   "execution_count": 14,
   "id": "bcb2df2e-1fe7-4514-b238-0609dd862015",
   "metadata": {},
   "outputs": [],
   "source": [
    "#part1="
   ]
  },
  {
   "cell_type": "code",
   "execution_count": 15,
   "id": "970a57e6-0a9d-4159-8b43-c6cac537ff21",
   "metadata": {},
   "outputs": [],
   "source": [
    "#Inheritance is a mechanism of acquiring the features and behaviors of a class by another class. The class whose members are inherited is called the base class, and the class that inherits those members is called the derived class. Inheritance implements the IS-A relationship."
   ]
  },
  {
   "cell_type": "code",
   "execution_count": 16,
   "id": "2f517ba9-4e9f-45e4-8967-c67a53e70e67",
   "metadata": {},
   "outputs": [],
   "source": [
    "#part2"
   ]
  },
  {
   "cell_type": "code",
   "execution_count": null,
   "id": "45da91c4-b0c2-43c5-b9b4-ea4129899808",
   "metadata": {},
   "outputs": [],
   "source": [
    "#The class whose members are inherited is called the base class, and the class that inherits those members is called the derived class. Inheritance implements the IS-A relationship. For example, mammal IS-A animal, dog IS-A mammal; Hence dog IS-A animal as well.\n"
   ]
  }
 ],
 "metadata": {
  "kernelspec": {
   "display_name": "Python 3 (ipykernel)",
   "language": "python",
   "name": "python3"
  },
  "language_info": {
   "codemirror_mode": {
    "name": "ipython",
    "version": 3
   },
   "file_extension": ".py",
   "mimetype": "text/x-python",
   "name": "python",
   "nbconvert_exporter": "python",
   "pygments_lexer": "ipython3",
   "version": "3.10.8"
  }
 },
 "nbformat": 4,
 "nbformat_minor": 5
}
